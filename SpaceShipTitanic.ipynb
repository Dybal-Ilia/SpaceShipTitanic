{
 "cells": [
  {
   "cell_type": "code",
   "execution_count": 1,
   "id": "854c18da",
   "metadata": {
    "_cell_guid": "b1076dfc-b9ad-4769-8c92-a6c4dae69d19",
    "_uuid": "8f2839f25d086af736a60e9eeb907d3b93b6e0e5",
    "execution": {
     "iopub.execute_input": "2025-06-03T13:18:59.031933Z",
     "iopub.status.busy": "2025-06-03T13:18:59.031649Z",
     "iopub.status.idle": "2025-06-03T13:19:01.020382Z",
     "shell.execute_reply": "2025-06-03T13:19:01.019421Z"
    },
    "papermill": {
     "duration": 1.996141,
     "end_time": "2025-06-03T13:19:01.021856",
     "exception": false,
     "start_time": "2025-06-03T13:18:59.025715",
     "status": "completed"
    },
    "tags": []
   },
   "outputs": [
    {
     "name": "stdout",
     "output_type": "stream",
     "text": [
      "/kaggle/input/spaceship-titanic/sample_submission.csv\n",
      "/kaggle/input/spaceship-titanic/train.csv\n",
      "/kaggle/input/spaceship-titanic/test.csv\n"
     ]
    }
   ],
   "source": [
    "# This Python 3 environment comes with many helpful analytics libraries installed\n",
    "# It is defined by the kaggle/python Docker image: https://github.com/kaggle/docker-python\n",
    "# For example, here's several helpful packages to load\n",
    "\n",
    "import numpy as np # linear algebra\n",
    "import pandas as pd # data processing, CSV file I/O (e.g. pd.read_csv)\n",
    "\n",
    "# Input data files are available in the read-only \"../input/\" directory\n",
    "# For example, running this (by clicking run or pressing Shift+Enter) will list all files under the input directory\n",
    "\n",
    "import os\n",
    "for dirname, _, filenames in os.walk('/kaggle/input'):\n",
    "    for filename in filenames:\n",
    "        print(os.path.join(dirname, filename))\n",
    "\n",
    "# You can write up to 20GB to the current directory (/kaggle/working/) that gets preserved as output when you create a version using \"Save & Run All\" \n",
    "# You can also write temporary files to /kaggle/temp/, but they won't be saved outside of the current session"
   ]
  },
  {
   "cell_type": "code",
   "execution_count": 2,
   "id": "16480d19",
   "metadata": {
    "execution": {
     "iopub.execute_input": "2025-06-03T13:19:01.031740Z",
     "iopub.status.busy": "2025-06-03T13:19:01.031235Z",
     "iopub.status.idle": "2025-06-03T13:19:01.126123Z",
     "shell.execute_reply": "2025-06-03T13:19:01.125098Z"
    },
    "papermill": {
     "duration": 0.10143,
     "end_time": "2025-06-03T13:19:01.127622",
     "exception": false,
     "start_time": "2025-06-03T13:19:01.026192",
     "status": "completed"
    },
    "tags": []
   },
   "outputs": [
    {
     "data": {
      "text/html": [
       "<div>\n",
       "<style scoped>\n",
       "    .dataframe tbody tr th:only-of-type {\n",
       "        vertical-align: middle;\n",
       "    }\n",
       "\n",
       "    .dataframe tbody tr th {\n",
       "        vertical-align: top;\n",
       "    }\n",
       "\n",
       "    .dataframe thead th {\n",
       "        text-align: right;\n",
       "    }\n",
       "</style>\n",
       "<table border=\"1\" class=\"dataframe\">\n",
       "  <thead>\n",
       "    <tr style=\"text-align: right;\">\n",
       "      <th></th>\n",
       "      <th>HomePlanet</th>\n",
       "      <th>CryoSleep</th>\n",
       "      <th>Destination</th>\n",
       "      <th>Age</th>\n",
       "      <th>VIP</th>\n",
       "      <th>Transported</th>\n",
       "    </tr>\n",
       "  </thead>\n",
       "  <tbody>\n",
       "    <tr>\n",
       "      <th>0</th>\n",
       "      <td>Europa</td>\n",
       "      <td>False</td>\n",
       "      <td>TRAPPIST-1e</td>\n",
       "      <td>39.0</td>\n",
       "      <td>False</td>\n",
       "      <td>False</td>\n",
       "    </tr>\n",
       "    <tr>\n",
       "      <th>1</th>\n",
       "      <td>Earth</td>\n",
       "      <td>False</td>\n",
       "      <td>TRAPPIST-1e</td>\n",
       "      <td>24.0</td>\n",
       "      <td>False</td>\n",
       "      <td>True</td>\n",
       "    </tr>\n",
       "    <tr>\n",
       "      <th>2</th>\n",
       "      <td>Europa</td>\n",
       "      <td>False</td>\n",
       "      <td>TRAPPIST-1e</td>\n",
       "      <td>58.0</td>\n",
       "      <td>True</td>\n",
       "      <td>False</td>\n",
       "    </tr>\n",
       "    <tr>\n",
       "      <th>3</th>\n",
       "      <td>Europa</td>\n",
       "      <td>False</td>\n",
       "      <td>TRAPPIST-1e</td>\n",
       "      <td>33.0</td>\n",
       "      <td>False</td>\n",
       "      <td>False</td>\n",
       "    </tr>\n",
       "    <tr>\n",
       "      <th>4</th>\n",
       "      <td>Earth</td>\n",
       "      <td>False</td>\n",
       "      <td>TRAPPIST-1e</td>\n",
       "      <td>16.0</td>\n",
       "      <td>False</td>\n",
       "      <td>True</td>\n",
       "    </tr>\n",
       "  </tbody>\n",
       "</table>\n",
       "</div>"
      ],
      "text/plain": [
       "  HomePlanet CryoSleep  Destination   Age    VIP  Transported\n",
       "0     Europa     False  TRAPPIST-1e  39.0  False        False\n",
       "1      Earth     False  TRAPPIST-1e  24.0  False         True\n",
       "2     Europa     False  TRAPPIST-1e  58.0   True        False\n",
       "3     Europa     False  TRAPPIST-1e  33.0  False        False\n",
       "4      Earth     False  TRAPPIST-1e  16.0  False         True"
      ]
     },
     "execution_count": 2,
     "metadata": {},
     "output_type": "execute_result"
    }
   ],
   "source": [
    "train = pd.read_csv('/kaggle/input/spaceship-titanic/train.csv')\n",
    "train = train.drop(['PassengerId', 'Name', 'RoomService', 'FoodCourt', 'ShoppingMall', 'Spa', 'VRDeck', 'Cabin'], axis = 1)\n",
    "train.head()"
   ]
  },
  {
   "cell_type": "code",
   "execution_count": 3,
   "id": "f4817432",
   "metadata": {
    "execution": {
     "iopub.execute_input": "2025-06-03T13:19:01.137023Z",
     "iopub.status.busy": "2025-06-03T13:19:01.136756Z",
     "iopub.status.idle": "2025-06-03T13:19:01.158918Z",
     "shell.execute_reply": "2025-06-03T13:19:01.157728Z"
    },
    "papermill": {
     "duration": 0.028469,
     "end_time": "2025-06-03T13:19:01.160303",
     "exception": false,
     "start_time": "2025-06-03T13:19:01.131834",
     "status": "completed"
    },
    "tags": []
   },
   "outputs": [
    {
     "name": "stdout",
     "output_type": "stream",
     "text": [
      "<class 'pandas.core.frame.DataFrame'>\n",
      "RangeIndex: 8693 entries, 0 to 8692\n",
      "Data columns (total 6 columns):\n",
      " #   Column       Non-Null Count  Dtype  \n",
      "---  ------       --------------  -----  \n",
      " 0   HomePlanet   8492 non-null   object \n",
      " 1   CryoSleep    8476 non-null   object \n",
      " 2   Destination  8511 non-null   object \n",
      " 3   Age          8514 non-null   float64\n",
      " 4   VIP          8490 non-null   object \n",
      " 5   Transported  8693 non-null   bool   \n",
      "dtypes: bool(1), float64(1), object(4)\n",
      "memory usage: 348.2+ KB\n"
     ]
    }
   ],
   "source": [
    "train.info()"
   ]
  },
  {
   "cell_type": "code",
   "execution_count": 4,
   "id": "7570fec2",
   "metadata": {
    "execution": {
     "iopub.execute_input": "2025-06-03T13:19:01.170326Z",
     "iopub.status.busy": "2025-06-03T13:19:01.169751Z",
     "iopub.status.idle": "2025-06-03T13:19:01.179006Z",
     "shell.execute_reply": "2025-06-03T13:19:01.178131Z"
    },
    "papermill": {
     "duration": 0.015853,
     "end_time": "2025-06-03T13:19:01.180536",
     "exception": false,
     "start_time": "2025-06-03T13:19:01.164683",
     "status": "completed"
    },
    "tags": []
   },
   "outputs": [
    {
     "data": {
      "text/plain": [
       "HomePlanet     201\n",
       "CryoSleep      217\n",
       "Destination    182\n",
       "Age            179\n",
       "VIP            203\n",
       "Transported      0\n",
       "dtype: int64"
      ]
     },
     "execution_count": 4,
     "metadata": {},
     "output_type": "execute_result"
    }
   ],
   "source": [
    "train.isna().sum()"
   ]
  },
  {
   "cell_type": "code",
   "execution_count": 5,
   "id": "40caeff6",
   "metadata": {
    "execution": {
     "iopub.execute_input": "2025-06-03T13:19:01.190129Z",
     "iopub.status.busy": "2025-06-03T13:19:01.189874Z",
     "iopub.status.idle": "2025-06-03T13:19:03.094453Z",
     "shell.execute_reply": "2025-06-03T13:19:03.093519Z"
    },
    "papermill": {
     "duration": 1.911343,
     "end_time": "2025-06-03T13:19:03.096138",
     "exception": false,
     "start_time": "2025-06-03T13:19:01.184795",
     "status": "completed"
    },
    "tags": []
   },
   "outputs": [],
   "source": [
    "from sklearn.impute import SimpleImputer\n",
    "imputer = SimpleImputer(missing_values = np.nan, strategy = 'most_frequent')\n",
    "\n",
    "imputer.fit(train[['HomePlanet']])\n",
    "train['HomePlanet'] = imputer.transform(train[['HomePlanet']]).ravel()\n",
    "\n",
    "imputer.fit(train[['CryoSleep']])\n",
    "train['CryoSleep'] = imputer.transform(train[['CryoSleep']]).ravel()\n",
    "\n",
    "imputer.fit(train[['Destination']])\n",
    "train['Destination'] = imputer.transform(train[['Destination']]).ravel()\n",
    "\n",
    "imputer.fit(train[['VIP']])\n",
    "train['VIP'] = imputer.transform(train[['VIP']]).ravel()\n",
    "\n",
    "imputer = SimpleImputer(missing_values = np.nan, strategy = 'mean')\n",
    "\n",
    "imputer.fit(train[['Age']])\n",
    "train['Age'] = imputer.transform(train[['Age']]).ravel()"
   ]
  },
  {
   "cell_type": "code",
   "execution_count": 6,
   "id": "f21fef98",
   "metadata": {
    "execution": {
     "iopub.execute_input": "2025-06-03T13:19:03.106314Z",
     "iopub.status.busy": "2025-06-03T13:19:03.105771Z",
     "iopub.status.idle": "2025-06-03T13:19:03.175499Z",
     "shell.execute_reply": "2025-06-03T13:19:03.174683Z"
    },
    "papermill": {
     "duration": 0.076429,
     "end_time": "2025-06-03T13:19:03.176829",
     "exception": false,
     "start_time": "2025-06-03T13:19:03.100400",
     "status": "completed"
    },
    "tags": []
   },
   "outputs": [
    {
     "data": {
      "text/html": [
       "<div>\n",
       "<style scoped>\n",
       "    .dataframe tbody tr th:only-of-type {\n",
       "        vertical-align: middle;\n",
       "    }\n",
       "\n",
       "    .dataframe tbody tr th {\n",
       "        vertical-align: top;\n",
       "    }\n",
       "\n",
       "    .dataframe thead th {\n",
       "        text-align: right;\n",
       "    }\n",
       "</style>\n",
       "<table border=\"1\" class=\"dataframe\">\n",
       "  <thead>\n",
       "    <tr style=\"text-align: right;\">\n",
       "      <th></th>\n",
       "      <th>HomePlanet_Earth</th>\n",
       "      <th>HomePlanet_Europa</th>\n",
       "      <th>HomePlanet_Mars</th>\n",
       "      <th>CryoSleep_False</th>\n",
       "      <th>CryoSleep_True</th>\n",
       "      <th>Destination_55 Cancri e</th>\n",
       "      <th>Destination_PSO J318.5-22</th>\n",
       "      <th>Destination_TRAPPIST-1e</th>\n",
       "      <th>VIP_False</th>\n",
       "      <th>VIP_True</th>\n",
       "      <th>Age</th>\n",
       "      <th>Transported</th>\n",
       "    </tr>\n",
       "  </thead>\n",
       "  <tbody>\n",
       "    <tr>\n",
       "      <th>0</th>\n",
       "      <td>0.0</td>\n",
       "      <td>1.0</td>\n",
       "      <td>0.0</td>\n",
       "      <td>1.0</td>\n",
       "      <td>0.0</td>\n",
       "      <td>0.0</td>\n",
       "      <td>0.0</td>\n",
       "      <td>1.0</td>\n",
       "      <td>1.0</td>\n",
       "      <td>0.0</td>\n",
       "      <td>39.0</td>\n",
       "      <td>False</td>\n",
       "    </tr>\n",
       "    <tr>\n",
       "      <th>1</th>\n",
       "      <td>1.0</td>\n",
       "      <td>0.0</td>\n",
       "      <td>0.0</td>\n",
       "      <td>1.0</td>\n",
       "      <td>0.0</td>\n",
       "      <td>0.0</td>\n",
       "      <td>0.0</td>\n",
       "      <td>1.0</td>\n",
       "      <td>1.0</td>\n",
       "      <td>0.0</td>\n",
       "      <td>24.0</td>\n",
       "      <td>True</td>\n",
       "    </tr>\n",
       "    <tr>\n",
       "      <th>2</th>\n",
       "      <td>0.0</td>\n",
       "      <td>1.0</td>\n",
       "      <td>0.0</td>\n",
       "      <td>1.0</td>\n",
       "      <td>0.0</td>\n",
       "      <td>0.0</td>\n",
       "      <td>0.0</td>\n",
       "      <td>1.0</td>\n",
       "      <td>0.0</td>\n",
       "      <td>1.0</td>\n",
       "      <td>58.0</td>\n",
       "      <td>False</td>\n",
       "    </tr>\n",
       "    <tr>\n",
       "      <th>3</th>\n",
       "      <td>0.0</td>\n",
       "      <td>1.0</td>\n",
       "      <td>0.0</td>\n",
       "      <td>1.0</td>\n",
       "      <td>0.0</td>\n",
       "      <td>0.0</td>\n",
       "      <td>0.0</td>\n",
       "      <td>1.0</td>\n",
       "      <td>1.0</td>\n",
       "      <td>0.0</td>\n",
       "      <td>33.0</td>\n",
       "      <td>False</td>\n",
       "    </tr>\n",
       "    <tr>\n",
       "      <th>4</th>\n",
       "      <td>1.0</td>\n",
       "      <td>0.0</td>\n",
       "      <td>0.0</td>\n",
       "      <td>1.0</td>\n",
       "      <td>0.0</td>\n",
       "      <td>0.0</td>\n",
       "      <td>0.0</td>\n",
       "      <td>1.0</td>\n",
       "      <td>1.0</td>\n",
       "      <td>0.0</td>\n",
       "      <td>16.0</td>\n",
       "      <td>True</td>\n",
       "    </tr>\n",
       "  </tbody>\n",
       "</table>\n",
       "</div>"
      ],
      "text/plain": [
       "  HomePlanet_Earth HomePlanet_Europa HomePlanet_Mars CryoSleep_False  \\\n",
       "0              0.0               1.0             0.0             1.0   \n",
       "1              1.0               0.0             0.0             1.0   \n",
       "2              0.0               1.0             0.0             1.0   \n",
       "3              0.0               1.0             0.0             1.0   \n",
       "4              1.0               0.0             0.0             1.0   \n",
       "\n",
       "  CryoSleep_True Destination_55 Cancri e Destination_PSO J318.5-22  \\\n",
       "0            0.0                     0.0                       0.0   \n",
       "1            0.0                     0.0                       0.0   \n",
       "2            0.0                     0.0                       0.0   \n",
       "3            0.0                     0.0                       0.0   \n",
       "4            0.0                     0.0                       0.0   \n",
       "\n",
       "  Destination_TRAPPIST-1e VIP_False VIP_True   Age Transported  \n",
       "0                     1.0       1.0      0.0  39.0       False  \n",
       "1                     1.0       1.0      0.0  24.0        True  \n",
       "2                     1.0       0.0      1.0  58.0       False  \n",
       "3                     1.0       1.0      0.0  33.0       False  \n",
       "4                     1.0       1.0      0.0  16.0        True  "
      ]
     },
     "execution_count": 6,
     "metadata": {},
     "output_type": "execute_result"
    }
   ],
   "source": [
    "from sklearn.preprocessing import OneHotEncoder\n",
    "from sklearn.compose import ColumnTransformer\n",
    "cat_columns = ['HomePlanet', 'CryoSleep', 'Destination', 'VIP']\n",
    "transformer = ColumnTransformer(\n",
    "    transformers = [\n",
    "        ('cat', OneHotEncoder(sparse_output = False), cat_columns)\n",
    "    ],\n",
    "    remainder = 'passthrough'\n",
    ")\n",
    "transformed = transformer.fit_transform(train)\n",
    "new_columns = transformer.named_transformers_['cat'].get_feature_names_out(cat_columns)\n",
    "all_columns = list(new_columns) + [col for col in train.columns if col not in cat_columns]\n",
    "encoded_train = pd.DataFrame(transformed, columns = all_columns)\n",
    "encoded_train.head()"
   ]
  },
  {
   "cell_type": "code",
   "execution_count": 7,
   "id": "15758d04",
   "metadata": {
    "execution": {
     "iopub.execute_input": "2025-06-03T13:19:03.186615Z",
     "iopub.status.busy": "2025-06-03T13:19:03.186248Z",
     "iopub.status.idle": "2025-06-03T13:19:04.504694Z",
     "shell.execute_reply": "2025-06-03T13:19:04.503807Z"
    },
    "papermill": {
     "duration": 1.326482,
     "end_time": "2025-06-03T13:19:04.507798",
     "exception": false,
     "start_time": "2025-06-03T13:19:03.181316",
     "status": "completed"
    },
    "tags": []
   },
   "outputs": [
    {
     "data": {
      "text/plain": [
       "<Axes: >"
      ]
     },
     "execution_count": 7,
     "metadata": {},
     "output_type": "execute_result"
    },
    {
     "data": {
      "image/png": "[encoded data removed]",
      "text/plain": [
       "<Figure size 640x480 with 2 Axes>"
      ]
     },
     "metadata": {},
     "output_type": "display_data"
    }
   ],
   "source": [
    "import seaborn as sns\n",
    "import matplotlib.pyplot as plt\n",
    "corr = encoded_train.corr()\n",
    "sns.heatmap(corr, annot = True, fmt = '.2f', linewidth = 1)\n"
   ]
  },
  {
   "cell_type": "code",
   "execution_count": 8,
   "id": "0ff053b3",
   "metadata": {
    "execution": {
     "iopub.execute_input": "2025-06-03T13:19:04.523572Z",
     "iopub.status.busy": "2025-06-03T13:19:04.523106Z",
     "iopub.status.idle": "2025-06-03T13:19:04.527317Z",
     "shell.execute_reply": "2025-06-03T13:19:04.526423Z"
    },
    "papermill": {
     "duration": 0.014366,
     "end_time": "2025-06-03T13:19:04.528878",
     "exception": false,
     "start_time": "2025-06-03T13:19:04.514512",
     "status": "completed"
    },
    "tags": []
   },
   "outputs": [],
   "source": [
    "#from sklearn.preprocessing import LabelEncoder\n",
    "#encoder = LabelEncoder()\n",
    "#encoded_train['Transported'] = encoder.fit_transform(encoded_train['Transported'])\n",
    "#y_train = encoded_train['Transported']\n",
    "#encoded_train = encoded_train.drop(['Transported'], axis = 1)"
   ]
  },
  {
   "cell_type": "code",
   "execution_count": 9,
   "id": "904f8900",
   "metadata": {
    "execution": {
     "iopub.execute_input": "2025-06-03T13:19:04.544227Z",
     "iopub.status.busy": "2025-06-03T13:19:04.543937Z",
     "iopub.status.idle": "2025-06-03T13:19:04.549874Z",
     "shell.execute_reply": "2025-06-03T13:19:04.549004Z"
    },
    "papermill": {
     "duration": 0.015151,
     "end_time": "2025-06-03T13:19:04.551249",
     "exception": false,
     "start_time": "2025-06-03T13:19:04.536098",
     "status": "completed"
    },
    "tags": []
   },
   "outputs": [],
   "source": [
    "encoded_train.head()\n",
    "encoded_train = encoded_train.drop(['Transported'], axis = 1)"
   ]
  },
  {
   "cell_type": "code",
   "execution_count": 10,
   "id": "25deaec9",
   "metadata": {
    "execution": {
     "iopub.execute_input": "2025-06-03T13:19:04.566003Z",
     "iopub.status.busy": "2025-06-03T13:19:04.565325Z",
     "iopub.status.idle": "2025-06-03T13:19:04.595953Z",
     "shell.execute_reply": "2025-06-03T13:19:04.595138Z"
    },
    "papermill": {
     "duration": 0.039371,
     "end_time": "2025-06-03T13:19:04.597490",
     "exception": false,
     "start_time": "2025-06-03T13:19:04.558119",
     "status": "completed"
    },
    "tags": []
   },
   "outputs": [],
   "source": [
    "test = pd.read_csv('/kaggle/input/spaceship-titanic/test.csv')\n",
    "test = test.drop(['PassengerId', 'Name', 'RoomService', 'FoodCourt', 'ShoppingMall', 'Spa', 'VRDeck', 'Cabin'], axis = 1)"
   ]
  },
  {
   "cell_type": "code",
   "execution_count": 11,
   "id": "1573ba76",
   "metadata": {
    "execution": {
     "iopub.execute_input": "2025-06-03T13:19:04.611695Z",
     "iopub.status.busy": "2025-06-03T13:19:04.611394Z",
     "iopub.status.idle": "2025-06-03T13:19:04.638168Z",
     "shell.execute_reply": "2025-06-03T13:19:04.637377Z"
    },
    "papermill": {
     "duration": 0.035692,
     "end_time": "2025-06-03T13:19:04.639750",
     "exception": false,
     "start_time": "2025-06-03T13:19:04.604058",
     "status": "completed"
    },
    "tags": []
   },
   "outputs": [],
   "source": [
    "imputer = SimpleImputer(missing_values = np.nan, strategy = 'most_frequent')\n",
    "\n",
    "imputer.fit(test[['HomePlanet']])\n",
    "test['HomePlanet'] = imputer.transform(test[['HomePlanet']]).ravel()\n",
    "\n",
    "imputer.fit(test[['CryoSleep']])\n",
    "test['CryoSleep'] = imputer.transform(test[['CryoSleep']]).ravel()\n",
    "\n",
    "imputer.fit(test[['Destination']])\n",
    "test['Destination'] = imputer.transform(test[['Destination']]).ravel()\n",
    "\n",
    "imputer.fit(test[['VIP']])\n",
    "test['VIP'] = imputer.transform(test[['VIP']]).ravel()\n",
    "\n",
    "imputer = SimpleImputer(missing_values = np.nan, strategy = 'mean')\n",
    "\n",
    "imputer.fit(test[['Age']])\n",
    "test['Age'] = imputer.transform(test[['Age']]).ravel()"
   ]
  },
  {
   "cell_type": "code",
   "execution_count": 12,
   "id": "38c08b28",
   "metadata": {
    "execution": {
     "iopub.execute_input": "2025-06-03T13:19:04.654147Z",
     "iopub.status.busy": "2025-06-03T13:19:04.653864Z",
     "iopub.status.idle": "2025-06-03T13:19:04.661542Z",
     "shell.execute_reply": "2025-06-03T13:19:04.660779Z"
    },
    "papermill": {
     "duration": 0.01658,
     "end_time": "2025-06-03T13:19:04.662822",
     "exception": false,
     "start_time": "2025-06-03T13:19:04.646242",
     "status": "completed"
    },
    "tags": []
   },
   "outputs": [
    {
     "data": {
      "text/plain": [
       "HomePlanet     0\n",
       "CryoSleep      0\n",
       "Destination    0\n",
       "Age            0\n",
       "VIP            0\n",
       "dtype: int64"
      ]
     },
     "execution_count": 12,
     "metadata": {},
     "output_type": "execute_result"
    }
   ],
   "source": [
    "test.isna().sum()"
   ]
  },
  {
   "cell_type": "code",
   "execution_count": 13,
   "id": "4e613531",
   "metadata": {
    "execution": {
     "iopub.execute_input": "2025-06-03T13:19:04.677277Z",
     "iopub.status.busy": "2025-06-03T13:19:04.676989Z",
     "iopub.status.idle": "2025-06-03T13:19:04.702280Z",
     "shell.execute_reply": "2025-06-03T13:19:04.701525Z"
    },
    "papermill": {
     "duration": 0.034254,
     "end_time": "2025-06-03T13:19:04.703748",
     "exception": false,
     "start_time": "2025-06-03T13:19:04.669494",
     "status": "completed"
    },
    "tags": []
   },
   "outputs": [
    {
     "data": {
      "text/html": [
       "<div>\n",
       "<style scoped>\n",
       "    .dataframe tbody tr th:only-of-type {\n",
       "        vertical-align: middle;\n",
       "    }\n",
       "\n",
       "    .dataframe tbody tr th {\n",
       "        vertical-align: top;\n",
       "    }\n",
       "\n",
       "    .dataframe thead th {\n",
       "        text-align: right;\n",
       "    }\n",
       "</style>\n",
       "<table border=\"1\" class=\"dataframe\">\n",
       "  <thead>\n",
       "    <tr style=\"text-align: right;\">\n",
       "      <th></th>\n",
       "      <th>HomePlanet_Earth</th>\n",
       "      <th>HomePlanet_Europa</th>\n",
       "      <th>HomePlanet_Mars</th>\n",
       "      <th>CryoSleep_False</th>\n",
       "      <th>CryoSleep_True</th>\n",
       "      <th>Destination_55 Cancri e</th>\n",
       "      <th>Destination_PSO J318.5-22</th>\n",
       "      <th>Destination_TRAPPIST-1e</th>\n",
       "      <th>VIP_False</th>\n",
       "      <th>VIP_True</th>\n",
       "      <th>Age</th>\n",
       "    </tr>\n",
       "  </thead>\n",
       "  <tbody>\n",
       "    <tr>\n",
       "      <th>0</th>\n",
       "      <td>1.0</td>\n",
       "      <td>0.0</td>\n",
       "      <td>0.0</td>\n",
       "      <td>0.0</td>\n",
       "      <td>1.0</td>\n",
       "      <td>0.0</td>\n",
       "      <td>0.0</td>\n",
       "      <td>1.0</td>\n",
       "      <td>1.0</td>\n",
       "      <td>0.0</td>\n",
       "      <td>27.0</td>\n",
       "    </tr>\n",
       "    <tr>\n",
       "      <th>1</th>\n",
       "      <td>1.0</td>\n",
       "      <td>0.0</td>\n",
       "      <td>0.0</td>\n",
       "      <td>1.0</td>\n",
       "      <td>0.0</td>\n",
       "      <td>0.0</td>\n",
       "      <td>0.0</td>\n",
       "      <td>1.0</td>\n",
       "      <td>1.0</td>\n",
       "      <td>0.0</td>\n",
       "      <td>19.0</td>\n",
       "    </tr>\n",
       "    <tr>\n",
       "      <th>2</th>\n",
       "      <td>0.0</td>\n",
       "      <td>1.0</td>\n",
       "      <td>0.0</td>\n",
       "      <td>0.0</td>\n",
       "      <td>1.0</td>\n",
       "      <td>1.0</td>\n",
       "      <td>0.0</td>\n",
       "      <td>0.0</td>\n",
       "      <td>1.0</td>\n",
       "      <td>0.0</td>\n",
       "      <td>31.0</td>\n",
       "    </tr>\n",
       "    <tr>\n",
       "      <th>3</th>\n",
       "      <td>0.0</td>\n",
       "      <td>1.0</td>\n",
       "      <td>0.0</td>\n",
       "      <td>1.0</td>\n",
       "      <td>0.0</td>\n",
       "      <td>0.0</td>\n",
       "      <td>0.0</td>\n",
       "      <td>1.0</td>\n",
       "      <td>1.0</td>\n",
       "      <td>0.0</td>\n",
       "      <td>38.0</td>\n",
       "    </tr>\n",
       "    <tr>\n",
       "      <th>4</th>\n",
       "      <td>1.0</td>\n",
       "      <td>0.0</td>\n",
       "      <td>0.0</td>\n",
       "      <td>1.0</td>\n",
       "      <td>0.0</td>\n",
       "      <td>0.0</td>\n",
       "      <td>0.0</td>\n",
       "      <td>1.0</td>\n",
       "      <td>1.0</td>\n",
       "      <td>0.0</td>\n",
       "      <td>20.0</td>\n",
       "    </tr>\n",
       "  </tbody>\n",
       "</table>\n",
       "</div>"
      ],
      "text/plain": [
       "   HomePlanet_Earth  HomePlanet_Europa  HomePlanet_Mars  CryoSleep_False  \\\n",
       "0               1.0                0.0              0.0              0.0   \n",
       "1               1.0                0.0              0.0              1.0   \n",
       "2               0.0                1.0              0.0              0.0   \n",
       "3               0.0                1.0              0.0              1.0   \n",
       "4               1.0                0.0              0.0              1.0   \n",
       "\n",
       "   CryoSleep_True  Destination_55 Cancri e  Destination_PSO J318.5-22  \\\n",
       "0             1.0                      0.0                        0.0   \n",
       "1             0.0                      0.0                        0.0   \n",
       "2             1.0                      1.0                        0.0   \n",
       "3             0.0                      0.0                        0.0   \n",
       "4             0.0                      0.0                        0.0   \n",
       "\n",
       "   Destination_TRAPPIST-1e  VIP_False  VIP_True   Age  \n",
       "0                      1.0        1.0       0.0  27.0  \n",
       "1                      1.0        1.0       0.0  19.0  \n",
       "2                      0.0        1.0       0.0  31.0  \n",
       "3                      1.0        1.0       0.0  38.0  \n",
       "4                      1.0        1.0       0.0  20.0  "
      ]
     },
     "execution_count": 13,
     "metadata": {},
     "output_type": "execute_result"
    }
   ],
   "source": [
    "transformed = transformer.fit_transform(test)\n",
    "new_columns = transformer.named_transformers_['cat'].get_feature_names_out(cat_columns)\n",
    "all_columns = list(new_columns) + [col for col in test.columns if col not in cat_columns]\n",
    "encoded_test = pd.DataFrame(transformed, columns = all_columns)\n",
    "encoded_test.head()"
   ]
  },
  {
   "cell_type": "code",
   "execution_count": null,
   "id": "26d39462",
   "metadata": {
    "papermill": {
     "duration": 0.007082,
     "end_time": "2025-06-03T13:19:04.717672",
     "exception": false,
     "start_time": "2025-06-03T13:19:04.710590",
     "status": "completed"
    },
    "tags": []
   },
   "outputs": [],
   "source": []
  },
  {
   "cell_type": "code",
   "execution_count": 14,
   "id": "e8573e7d",
   "metadata": {
    "execution": {
     "iopub.execute_input": "2025-06-03T13:19:04.732262Z",
     "iopub.status.busy": "2025-06-03T13:19:04.732004Z",
     "iopub.status.idle": "2025-06-03T13:19:04.747224Z",
     "shell.execute_reply": "2025-06-03T13:19:04.746404Z"
    },
    "papermill": {
     "duration": 0.024562,
     "end_time": "2025-06-03T13:19:04.748892",
     "exception": false,
     "start_time": "2025-06-03T13:19:04.724330",
     "status": "completed"
    },
    "tags": []
   },
   "outputs": [],
   "source": [
    "submission = pd.read_csv('/kaggle/input/spaceship-titanic/sample_submission.csv')\n",
    "passengerID = submission.PassengerId"
   ]
  },
  {
   "cell_type": "code",
   "execution_count": 15,
   "id": "45aa56fb",
   "metadata": {
    "execution": {
     "iopub.execute_input": "2025-06-03T13:19:04.764185Z",
     "iopub.status.busy": "2025-06-03T13:19:04.763862Z",
     "iopub.status.idle": "2025-06-03T13:19:04.768139Z",
     "shell.execute_reply": "2025-06-03T13:19:04.767252Z"
    },
    "papermill": {
     "duration": 0.013762,
     "end_time": "2025-06-03T13:19:04.769736",
     "exception": false,
     "start_time": "2025-06-03T13:19:04.755974",
     "status": "completed"
    },
    "tags": []
   },
   "outputs": [],
   "source": [
    "#y_submission = encoder.fit_transform(submission['Transported'])\n"
   ]
  },
  {
   "cell_type": "code",
   "execution_count": 16,
   "id": "33f8e58c",
   "metadata": {
    "execution": {
     "iopub.execute_input": "2025-06-03T13:19:04.785153Z",
     "iopub.status.busy": "2025-06-03T13:19:04.784554Z",
     "iopub.status.idle": "2025-06-03T13:19:04.788614Z",
     "shell.execute_reply": "2025-06-03T13:19:04.787884Z"
    },
    "papermill": {
     "duration": 0.01299,
     "end_time": "2025-06-03T13:19:04.789851",
     "exception": false,
     "start_time": "2025-06-03T13:19:04.776861",
     "status": "completed"
    },
    "tags": []
   },
   "outputs": [],
   "source": [
    "y_train = train['Transported']\n",
    "y_submission = submission['Transported']\n"
   ]
  },
  {
   "cell_type": "code",
   "execution_count": 17,
   "id": "ecbec49b",
   "metadata": {
    "execution": {
     "iopub.execute_input": "2025-06-03T13:19:04.805181Z",
     "iopub.status.busy": "2025-06-03T13:19:04.804579Z",
     "iopub.status.idle": "2025-06-03T13:19:05.199715Z",
     "shell.execute_reply": "2025-06-03T13:19:05.198875Z"
    },
    "papermill": {
     "duration": 0.40443,
     "end_time": "2025-06-03T13:19:05.201226",
     "exception": false,
     "start_time": "2025-06-03T13:19:04.796796",
     "status": "completed"
    },
    "tags": []
   },
   "outputs": [
    {
     "data": {
      "text/html": [
       "<style>#sk-container-id-1 {color: black;background-color: white;}#sk-container-id-1 pre{padding: 0;}#sk-container-id-1 div.sk-toggleable {background-color: white;}#sk-container-id-1 label.sk-toggleable__label {cursor: pointer;display: block;width: 100%;margin-bottom: 0;padding: 0.3em;box-sizing: border-box;text-align: center;}#sk-container-id-1 label.sk-toggleable__label-arrow:before {content: \"▸\";float: left;margin-right: 0.25em;color: #696969;}#sk-container-id-1 label.sk-toggleable__label-arrow:hover:before {color: black;}#sk-container-id-1 div.sk-estimator:hover label.sk-toggleable__label-arrow:before {color: black;}#sk-container-id-1 div.sk-toggleable__content {max-height: 0;max-width: 0;overflow: hidden;text-align: left;background-color: #f0f8ff;}#sk-container-id-1 div.sk-toggleable__content pre {margin: 0.2em;color: black;border-radius: 0.25em;background-color: #f0f8ff;}#sk-container-id-1 input.sk-toggleable__control:checked~div.sk-toggleable__content {max-height: 200px;max-width: 100%;overflow: auto;}#sk-container-id-1 input.sk-toggleable__control:checked~label.sk-toggleable__label-arrow:before {content: \"▾\";}#sk-container-id-1 div.sk-estimator input.sk-toggleable__control:checked~label.sk-toggleable__label {background-color: #d4ebff;}#sk-container-id-1 div.sk-label input.sk-toggleable__control:checked~label.sk-toggleable__label {background-color: #d4ebff;}#sk-container-id-1 input.sk-hidden--visually {border: 0;clip: rect(1px 1px 1px 1px);clip: rect(1px, 1px, 1px, 1px);height: 1px;margin: -1px;overflow: hidden;padding: 0;position: absolute;width: 1px;}#sk-container-id-1 div.sk-estimator {font-family: monospace;background-color: #f0f8ff;border: 1px dotted black;border-radius: 0.25em;box-sizing: border-box;margin-bottom: 0.5em;}#sk-container-id-1 div.sk-estimator:hover {background-color: #d4ebff;}#sk-container-id-1 div.sk-parallel-item::after {content: \"\";width: 100%;border-bottom: 1px solid gray;flex-grow: 1;}#sk-container-id-1 div.sk-label:hover label.sk-toggleable__label {background-color: #d4ebff;}#sk-container-id-1 div.sk-serial::before {content: \"\";position: absolute;border-left: 1px solid gray;box-sizing: border-box;top: 0;bottom: 0;left: 50%;z-index: 0;}#sk-container-id-1 div.sk-serial {display: flex;flex-direction: column;align-items: center;background-color: white;padding-right: 0.2em;padding-left: 0.2em;position: relative;}#sk-container-id-1 div.sk-item {position: relative;z-index: 1;}#sk-container-id-1 div.sk-parallel {display: flex;align-items: stretch;justify-content: center;background-color: white;position: relative;}#sk-container-id-1 div.sk-item::before, #sk-container-id-1 div.sk-parallel-item::before {content: \"\";position: absolute;border-left: 1px solid gray;box-sizing: border-box;top: 0;bottom: 0;left: 50%;z-index: -1;}#sk-container-id-1 div.sk-parallel-item {display: flex;flex-direction: column;z-index: 1;position: relative;background-color: white;}#sk-container-id-1 div.sk-parallel-item:first-child::after {align-self: flex-end;width: 50%;}#sk-container-id-1 div.sk-parallel-item:last-child::after {align-self: flex-start;width: 50%;}#sk-container-id-1 div.sk-parallel-item:only-child::after {width: 0;}#sk-container-id-1 div.sk-dashed-wrapped {border: 1px dashed gray;margin: 0 0.4em 0.5em 0.4em;box-sizing: border-box;padding-bottom: 0.4em;background-color: white;}#sk-container-id-1 div.sk-label label {font-family: monospace;font-weight: bold;display: inline-block;line-height: 1.2em;}#sk-container-id-1 div.sk-label-container {text-align: center;}#sk-container-id-1 div.sk-container {/* jupyter's `normalize.less` sets `[hidden] { display: none; }` but bootstrap.min.css set `[hidden] { display: none !important; }` so we also need the `!important` here to be able to override the default hidden behavior on the sphinx rendered scikit-learn.org. See: https://github.com/scikit-learn/scikit-learn/issues/21755 */display: inline-block !important;position: relative;}#sk-container-id-1 div.sk-text-repr-fallback {display: none;}</style><div id=\"sk-container-id-1\" class=\"sk-top-container\"><div class=\"sk-text-repr-fallback\"><pre>RandomForestClassifier(max_depth=3, n_estimators=60)</pre><b>In a Jupyter environment, please rerun this cell to show the HTML representation or trust the notebook. <br />On GitHub, the HTML representation is unable to render, please try loading this page with nbviewer.org.</b></div><div class=\"sk-container\" hidden><div class=\"sk-item\"><div class=\"sk-estimator sk-toggleable\"><input class=\"sk-toggleable__control sk-hidden--visually\" id=\"sk-estimator-id-1\" type=\"checkbox\" checked><label for=\"sk-estimator-id-1\" class=\"sk-toggleable__label sk-toggleable__label-arrow\">RandomForestClassifier</label><div class=\"sk-toggleable__content\"><pre>RandomForestClassifier(max_depth=3, n_estimators=60)</pre></div></div></div></div></div>"
      ],
      "text/plain": [
       "RandomForestClassifier(max_depth=3, n_estimators=60)"
      ]
     },
     "execution_count": 17,
     "metadata": {},
     "output_type": "execute_result"
    }
   ],
   "source": [
    "from sklearn.ensemble import RandomForestClassifier\n",
    "model = RandomForestClassifier(n_estimators = 60, max_depth = 3)\n",
    "model.fit(encoded_train, y_train)\n"
   ]
  },
  {
   "cell_type": "code",
   "execution_count": 18,
   "id": "7ef31304",
   "metadata": {
    "execution": {
     "iopub.execute_input": "2025-06-03T13:19:05.217759Z",
     "iopub.status.busy": "2025-06-03T13:19:05.217094Z",
     "iopub.status.idle": "2025-06-03T13:19:05.255578Z",
     "shell.execute_reply": "2025-06-03T13:19:05.254780Z"
    },
    "papermill": {
     "duration": 0.048182,
     "end_time": "2025-06-03T13:19:05.257113",
     "exception": false,
     "start_time": "2025-06-03T13:19:05.208931",
     "status": "completed"
    },
    "tags": []
   },
   "outputs": [],
   "source": [
    "y_pred = model.predict(encoded_test)"
   ]
  },
  {
   "cell_type": "code",
   "execution_count": 19,
   "id": "a835f438",
   "metadata": {
    "execution": {
     "iopub.execute_input": "2025-06-03T13:19:05.273409Z",
     "iopub.status.busy": "2025-06-03T13:19:05.272776Z",
     "iopub.status.idle": "2025-06-03T13:19:05.278832Z",
     "shell.execute_reply": "2025-06-03T13:19:05.278076Z"
    },
    "papermill": {
     "duration": 0.015693,
     "end_time": "2025-06-03T13:19:05.280019",
     "exception": false,
     "start_time": "2025-06-03T13:19:05.264326",
     "status": "completed"
    },
    "tags": []
   },
   "outputs": [
    {
     "name": "stdout",
     "output_type": "stream",
     "text": [
      "Accuracy: 0.6256722001402852\n"
     ]
    }
   ],
   "source": [
    "from sklearn.metrics import accuracy_score, recall_score, precision_score\n",
    "print(f'Accuracy: {accuracy_score(y_submission, y_pred)}')"
   ]
  },
  {
   "cell_type": "code",
   "execution_count": 20,
   "id": "e47e032a",
   "metadata": {
    "execution": {
     "iopub.execute_input": "2025-06-03T13:19:05.295717Z",
     "iopub.status.busy": "2025-06-03T13:19:05.295444Z",
     "iopub.status.idle": "2025-06-03T13:19:05.300593Z",
     "shell.execute_reply": "2025-06-03T13:19:05.299805Z"
    },
    "papermill": {
     "duration": 0.014588,
     "end_time": "2025-06-03T13:19:05.301864",
     "exception": false,
     "start_time": "2025-06-03T13:19:05.287276",
     "status": "completed"
    },
    "tags": []
   },
   "outputs": [
    {
     "data": {
      "text/plain": [
       "array([ True, False,  True, ...,  True, False,  True])"
      ]
     },
     "execution_count": 20,
     "metadata": {},
     "output_type": "execute_result"
    }
   ],
   "source": [
    "y_pred"
   ]
  },
  {
   "cell_type": "code",
   "execution_count": 21,
   "id": "cd32309e",
   "metadata": {
    "execution": {
     "iopub.execute_input": "2025-06-03T13:19:05.317434Z",
     "iopub.status.busy": "2025-06-03T13:19:05.316810Z",
     "iopub.status.idle": "2025-06-03T13:19:05.329649Z",
     "shell.execute_reply": "2025-06-03T13:19:05.328798Z"
    },
    "papermill": {
     "duration": 0.022203,
     "end_time": "2025-06-03T13:19:05.331135",
     "exception": false,
     "start_time": "2025-06-03T13:19:05.308932",
     "status": "completed"
    },
    "tags": []
   },
   "outputs": [],
   "source": [
    "output = submission\n",
    "output.to_csv('submission.csv', index = False)\n"
   ]
  }
 ],
 "metadata": {
  "kaggle": {
   "accelerator": "none",
   "dataSources": [
    {
     "databundleVersionId": 3220602,
     "sourceId": 34377,
     "sourceType": "competition"
    }
   ],
   "dockerImageVersionId": 31040,
   "isGpuEnabled": false,
   "isInternetEnabled": false,
   "language": "python",
   "sourceType": "notebook"
  },
  "kernelspec": {
   "display_name": "Python 3",
   "language": "python",
   "name": "python3"
  },
  "language_info": {
   "codemirror_mode": {
    "name": "ipython",
    "version": 3
   },
   "file_extension": ".py",
   "mimetype": "text/x-python",
   "name": "python",
   "nbconvert_exporter": "python",
   "pygments_lexer": "ipython3",
   "version": "3.11.11"
  },
  "papermill": {
   "default_parameters": {},
   "duration": 11.722045,
   "end_time": "2025-06-03T13:19:06.057610",
   "environment_variables": {},
   "exception": null,
   "input_path": "__notebook__.ipynb",
   "output_path": "__notebook__.ipynb",
   "parameters": {},
   "start_time": "2025-06-03T13:18:54.335565",
   "version": "2.6.0"
  }
 },
 "nbformat": 4,
 "nbformat_minor": 5
}
